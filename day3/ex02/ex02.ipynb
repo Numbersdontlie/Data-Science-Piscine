{
 "cells": [
  {
   "cell_type": "markdown",
   "id": "be5456db",
   "metadata": {},
   "source": [
    "## Interquartile analysis on price"
   ]
  },
  {
   "cell_type": "code",
   "execution_count": null,
   "id": "24f99c45",
   "metadata": {},
   "outputs": [],
   "source": [
    "import polars as pl\n",
    "import matplotlib.pyplot as plt\n",
    "import psycopg2\n",
    "from dotenv import load_dotenv\n",
    "load_dotenv()\n",
    "import os\n",
    "import seaborn as sns\n",
    "import altair as alt\n",
    "alt.data_transformers.enable(\"vegafusion\")\n",
    "import vegafusion as vf"
   ]
  },
  {
   "cell_type": "code",
   "execution_count": null,
   "id": "436a60bf",
   "metadata": {},
   "outputs": [],
   "source": [
    "user = os.getenv('POSTGRES_USER')\n",
    "password = os.getenv('POSTGRES_PASSWORD')\n",
    "host = os.getenv('DB_HOST')\n",
    "port = os.getenv('DB_PORT')\n",
    "dbname = os.getenv('POSTGRES_DB')\n",
    "\n",
    "uri = f\"postgresql://{user}:{password}@{host}:{port}/{dbname}\"\n",
    "\n",
    "df_iqc = pl.read_database_uri(\"SELECT event_time, event_type FROM customers WHERE event_type LIKE 'purchase';\", uri)"
   ]
  }
 ],
 "metadata": {
  "kernelspec": {
   "display_name": "Python 3",
   "language": "python",
   "name": "python3"
  },
  "language_info": {
   "name": "python",
   "version": "3.10.12"
  }
 },
 "nbformat": 4,
 "nbformat_minor": 5
}
