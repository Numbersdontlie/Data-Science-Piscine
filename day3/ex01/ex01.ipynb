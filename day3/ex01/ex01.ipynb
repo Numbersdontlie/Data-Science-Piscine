{
 "cells": [
  {
   "cell_type": "markdown",
   "id": "dc443abc",
   "metadata": {},
   "source": []
  },
  {
   "cell_type": "code",
   "execution_count": 2,
   "id": "7c4a2428",
   "metadata": {},
   "outputs": [],
   "source": [
    "import polars as pl\n",
    "import matplotlib.pyplot as plt\n",
    "import psycopg2\n",
    "from dotenv import load_dotenv\n",
    "load_dotenv()\n",
    "import os\n",
    "import seaborn as sns\n",
    "import altair as alt\n",
    "alt.data_transformers.enable(\"vegafusion\")\n",
    "import vegafusion as vf"
   ]
  },
  {
   "cell_type": "code",
   "execution_count": 3,
   "id": "23bf0623",
   "metadata": {},
   "outputs": [],
   "source": [
    "user = os.getenv('POSTGRES_USER')\n",
    "password = os.getenv('POSTGRES_PASSWORD')\n",
    "host = os.getenv('DB_HOST')\n",
    "port = os.getenv('DB_PORT')\n",
    "dbname = os.getenv('POSTGRES_DB')\n",
    "\n",
    "uri = f\"postgresql://{user}:{password}@{host}:{port}/{dbname}\"\n",
    "\n",
    "df_purchase = pl.read_database_uri(\"SELECT event_time, event_type FROM customers WHERE event_type LIKE 'purchase';\", uri)"
   ]
  },
  {
   "cell_type": "code",
   "execution_count": 4,
   "id": "998e277c",
   "metadata": {},
   "outputs": [
    {
     "data": {
      "text/html": [
       "<div><style>\n",
       ".dataframe > thead > tr,\n",
       ".dataframe > tbody > tr {\n",
       "  text-align: right;\n",
       "  white-space: pre-wrap;\n",
       "}\n",
       "</style>\n",
       "<small>shape: (5, 2)</small><table border=\"1\" class=\"dataframe\"><thead><tr><th>event_time</th><th>event_type</th></tr><tr><td>datetime[μs, UTC]</td><td>str</td></tr></thead><tbody><tr><td>2022-12-05 13:14:48 UTC</td><td>&quot;purchase&quot;</td></tr><tr><td>2022-12-15 18:50:40 UTC</td><td>&quot;purchase&quot;</td></tr><tr><td>2023-02-13 04:26:55 UTC</td><td>&quot;purchase&quot;</td></tr><tr><td>2023-01-25 01:58:52 UTC</td><td>&quot;purchase&quot;</td></tr><tr><td>2023-01-14 19:27:20 UTC</td><td>&quot;purchase&quot;</td></tr></tbody></table></div>"
      ],
      "text/plain": [
       "shape: (5, 2)\n",
       "┌─────────────────────────┬────────────┐\n",
       "│ event_time              ┆ event_type │\n",
       "│ ---                     ┆ ---        │\n",
       "│ datetime[μs, UTC]       ┆ str        │\n",
       "╞═════════════════════════╪════════════╡\n",
       "│ 2022-12-05 13:14:48 UTC ┆ purchase   │\n",
       "│ 2022-12-15 18:50:40 UTC ┆ purchase   │\n",
       "│ 2023-02-13 04:26:55 UTC ┆ purchase   │\n",
       "│ 2023-01-25 01:58:52 UTC ┆ purchase   │\n",
       "│ 2023-01-14 19:27:20 UTC ┆ purchase   │\n",
       "└─────────────────────────┴────────────┘"
      ]
     },
     "execution_count": 4,
     "metadata": {},
     "output_type": "execute_result"
    }
   ],
   "source": [
    "df_purchase.head()"
   ]
  },
  {
   "cell_type": "code",
   "execution_count": null,
   "id": "82d4822a",
   "metadata": {},
   "outputs": [],
   "source": [
    "# Query to get the aggregate per month\n",
    "SELECT\n",
    "    DATE_TRUNC('month', event_time) AS month,\n",
    "    COUNT(DISTINCT user_id) AS unique_customers,\n",
    "    COUNT(*) AS total_purchases\n",
    "FROM customers\n",
    "WHERE event_type = 'purchase'\n",
    "GROUP BY DATE_TRUNC('month', event_time)\n",
    "ORDER BY month;"
   ]
  },
  {
   "cell_type": "code",
   "execution_count": null,
   "id": "0c421512",
   "metadata": {},
   "outputs": [],
   "source": [
    "# Query to get the total amount of dollars expend per month\n",
    "SELECT\n",
    "\tDATE_TRUNC('month', event_time) AS mes,\n",
    "\tSUM(price) AS precio\n",
    "FROM customers\n",
    "WHERE event_type = 'purchase'\n",
    "GROUP BY DATE_TRUNC('month', event_time)\n",
    "ORDER BY mes;"
   ]
  },
  {
   "cell_type": "code",
   "execution_count": null,
   "id": "d0a22df9",
   "metadata": {},
   "outputs": [],
   "source": [
    "# Query to get the avg expend per user per month\n",
    "SELECT\n",
    "    DATE_TRUNC('month', event_time) AS mes,\n",
    "    user_id,\n",
    "    AVG(price) AS promedio\n",
    "FROM customers\n",
    "WHERE event_type = 'purchase'\n",
    "GROUP BY DATE_TRUNC('month', event_time), user_id\n",
    "ORDER BY mes, user_id;"
   ]
  }
 ],
 "metadata": {
  "kernelspec": {
   "display_name": "Python 3",
   "language": "python",
   "name": "python3"
  },
  "language_info": {
   "codemirror_mode": {
    "name": "ipython",
    "version": 3
   },
   "file_extension": ".py",
   "mimetype": "text/x-python",
   "name": "python",
   "nbconvert_exporter": "python",
   "pygments_lexer": "ipython3",
   "version": "3.10.12"
  }
 },
 "nbformat": 4,
 "nbformat_minor": 5
}
